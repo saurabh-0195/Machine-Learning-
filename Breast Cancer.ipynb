{
 "cells": [
  {
   "cell_type": "markdown",
   "metadata": {},
   "source": [
    "# Breast Cancer project\n",
    "\n"
   ]
  },
  {
   "cell_type": "markdown",
   "metadata": {},
   "source": [
    "# KNN and Random forest performed better "
   ]
  },
  {
   "cell_type": "code",
   "execution_count": 106,
   "metadata": {},
   "outputs": [],
   "source": [
    "import pandas as pd\n",
    "import numpy as np\n",
    "import seaborn as sns\n",
    "import matplotlib.pyplot as plt\n",
    "%matplotlib inline\n",
    "\n",
    "from sklearn.model_selection import train_test_split,cross_val_score\n",
    "from sklearn.preprocessing import StandardScaler,MinMaxScaler\n",
    "from sklearn.linear_model import LinearRegression,LogisticRegression\n",
    "from sklearn.ensemble import RandomForestClassifier\n",
    "from sklearn.tree import DecisionTreeClassifier\n",
    "from sklearn.neighbors import KNeighborsClassifier\n",
    "from sklearn.svm import SVC\n",
    "from sklearn.metrics import accuracy_score,classification_report,confusion_matrix\n",
    "from sklearn.metrics import r2_score,mean_absolute_error,mean_squared_error\n",
    "from sklearn.feature_selection import SelectFromModel"
   ]
  },
  {
   "cell_type": "code",
   "execution_count": 107,
   "metadata": {},
   "outputs": [],
   "source": [
    "pd.set_option('display.max_columns',None)"
   ]
  },
  {
   "cell_type": "code",
   "execution_count": 108,
   "metadata": {
    "scrolled": false
   },
   "outputs": [
    {
     "data": {
      "text/html": [
       "<div>\n",
       "<style scoped>\n",
       "    .dataframe tbody tr th:only-of-type {\n",
       "        vertical-align: middle;\n",
       "    }\n",
       "\n",
       "    .dataframe tbody tr th {\n",
       "        vertical-align: top;\n",
       "    }\n",
       "\n",
       "    .dataframe thead th {\n",
       "        text-align: right;\n",
       "    }\n",
       "</style>\n",
       "<table border=\"1\" class=\"dataframe\">\n",
       "  <thead>\n",
       "    <tr style=\"text-align: right;\">\n",
       "      <th></th>\n",
       "      <th>Sample code number</th>\n",
       "      <th>Clump Thickness</th>\n",
       "      <th>Uniformity of Cell Size</th>\n",
       "      <th>Uniformity of Cell Shape</th>\n",
       "      <th>Marginal Adhesion</th>\n",
       "      <th>Single Epithelial Cell Size</th>\n",
       "      <th>Bare Nuclei</th>\n",
       "      <th>Bland Chromatin</th>\n",
       "      <th>Normal Nucleoli</th>\n",
       "      <th>Mitoses</th>\n",
       "      <th>Class:</th>\n",
       "    </tr>\n",
       "  </thead>\n",
       "  <tbody>\n",
       "    <tr>\n",
       "      <th>0</th>\n",
       "      <td>1000025</td>\n",
       "      <td>5</td>\n",
       "      <td>1</td>\n",
       "      <td>1</td>\n",
       "      <td>1</td>\n",
       "      <td>2</td>\n",
       "      <td>1</td>\n",
       "      <td>3</td>\n",
       "      <td>1</td>\n",
       "      <td>1</td>\n",
       "      <td>2</td>\n",
       "    </tr>\n",
       "    <tr>\n",
       "      <th>1</th>\n",
       "      <td>1002945</td>\n",
       "      <td>5</td>\n",
       "      <td>4</td>\n",
       "      <td>4</td>\n",
       "      <td>5</td>\n",
       "      <td>7</td>\n",
       "      <td>10</td>\n",
       "      <td>3</td>\n",
       "      <td>2</td>\n",
       "      <td>1</td>\n",
       "      <td>2</td>\n",
       "    </tr>\n",
       "    <tr>\n",
       "      <th>2</th>\n",
       "      <td>1015425</td>\n",
       "      <td>3</td>\n",
       "      <td>1</td>\n",
       "      <td>1</td>\n",
       "      <td>1</td>\n",
       "      <td>2</td>\n",
       "      <td>2</td>\n",
       "      <td>3</td>\n",
       "      <td>1</td>\n",
       "      <td>1</td>\n",
       "      <td>2</td>\n",
       "    </tr>\n",
       "    <tr>\n",
       "      <th>3</th>\n",
       "      <td>1016277</td>\n",
       "      <td>6</td>\n",
       "      <td>8</td>\n",
       "      <td>8</td>\n",
       "      <td>1</td>\n",
       "      <td>3</td>\n",
       "      <td>4</td>\n",
       "      <td>3</td>\n",
       "      <td>7</td>\n",
       "      <td>1</td>\n",
       "      <td>2</td>\n",
       "    </tr>\n",
       "    <tr>\n",
       "      <th>4</th>\n",
       "      <td>1017023</td>\n",
       "      <td>4</td>\n",
       "      <td>1</td>\n",
       "      <td>1</td>\n",
       "      <td>3</td>\n",
       "      <td>2</td>\n",
       "      <td>1</td>\n",
       "      <td>3</td>\n",
       "      <td>1</td>\n",
       "      <td>1</td>\n",
       "      <td>2</td>\n",
       "    </tr>\n",
       "    <tr>\n",
       "      <th>5</th>\n",
       "      <td>1017122</td>\n",
       "      <td>8</td>\n",
       "      <td>10</td>\n",
       "      <td>10</td>\n",
       "      <td>8</td>\n",
       "      <td>7</td>\n",
       "      <td>10</td>\n",
       "      <td>9</td>\n",
       "      <td>7</td>\n",
       "      <td>1</td>\n",
       "      <td>4</td>\n",
       "    </tr>\n",
       "    <tr>\n",
       "      <th>6</th>\n",
       "      <td>1018099</td>\n",
       "      <td>1</td>\n",
       "      <td>1</td>\n",
       "      <td>1</td>\n",
       "      <td>1</td>\n",
       "      <td>2</td>\n",
       "      <td>10</td>\n",
       "      <td>3</td>\n",
       "      <td>1</td>\n",
       "      <td>1</td>\n",
       "      <td>2</td>\n",
       "    </tr>\n",
       "    <tr>\n",
       "      <th>7</th>\n",
       "      <td>1018561</td>\n",
       "      <td>2</td>\n",
       "      <td>1</td>\n",
       "      <td>2</td>\n",
       "      <td>1</td>\n",
       "      <td>2</td>\n",
       "      <td>1</td>\n",
       "      <td>3</td>\n",
       "      <td>1</td>\n",
       "      <td>1</td>\n",
       "      <td>2</td>\n",
       "    </tr>\n",
       "    <tr>\n",
       "      <th>8</th>\n",
       "      <td>1033078</td>\n",
       "      <td>2</td>\n",
       "      <td>1</td>\n",
       "      <td>1</td>\n",
       "      <td>1</td>\n",
       "      <td>2</td>\n",
       "      <td>1</td>\n",
       "      <td>1</td>\n",
       "      <td>1</td>\n",
       "      <td>5</td>\n",
       "      <td>2</td>\n",
       "    </tr>\n",
       "    <tr>\n",
       "      <th>9</th>\n",
       "      <td>1033078</td>\n",
       "      <td>4</td>\n",
       "      <td>2</td>\n",
       "      <td>1</td>\n",
       "      <td>1</td>\n",
       "      <td>2</td>\n",
       "      <td>1</td>\n",
       "      <td>2</td>\n",
       "      <td>1</td>\n",
       "      <td>1</td>\n",
       "      <td>2</td>\n",
       "    </tr>\n",
       "  </tbody>\n",
       "</table>\n",
       "</div>"
      ],
      "text/plain": [
       "   Sample code number  Clump Thickness  Uniformity of Cell Size  \\\n",
       "0             1000025                5                        1   \n",
       "1             1002945                5                        4   \n",
       "2             1015425                3                        1   \n",
       "3             1016277                6                        8   \n",
       "4             1017023                4                        1   \n",
       "5             1017122                8                       10   \n",
       "6             1018099                1                        1   \n",
       "7             1018561                2                        1   \n",
       "8             1033078                2                        1   \n",
       "9             1033078                4                        2   \n",
       "\n",
       "   Uniformity of Cell Shape  Marginal Adhesion  Single Epithelial Cell Size  \\\n",
       "0                         1                  1                            2   \n",
       "1                         4                  5                            7   \n",
       "2                         1                  1                            2   \n",
       "3                         8                  1                            3   \n",
       "4                         1                  3                            2   \n",
       "5                        10                  8                            7   \n",
       "6                         1                  1                            2   \n",
       "7                         2                  1                            2   \n",
       "8                         1                  1                            2   \n",
       "9                         1                  1                            2   \n",
       "\n",
       "  Bare Nuclei  Bland Chromatin  Normal Nucleoli  Mitoses  Class:  \n",
       "0           1                3                1        1       2  \n",
       "1          10                3                2        1       2  \n",
       "2           2                3                1        1       2  \n",
       "3           4                3                7        1       2  \n",
       "4           1                3                1        1       2  \n",
       "5          10                9                7        1       4  \n",
       "6          10                3                1        1       2  \n",
       "7           1                3                1        1       2  \n",
       "8           1                1                1        5       2  \n",
       "9           1                2                1        1       2  "
      ]
     },
     "execution_count": 108,
     "metadata": {},
     "output_type": "execute_result"
    }
   ],
   "source": [
    "df=pd.read_csv('../dataset/Breastcancer/data.csv')\n",
    "df.head(10)"
   ]
  },
  {
   "cell_type": "code",
   "execution_count": 109,
   "metadata": {},
   "outputs": [],
   "source": [
    "df.dropna(inplace=True)"
   ]
  },
  {
   "cell_type": "code",
   "execution_count": 110,
   "metadata": {},
   "outputs": [
    {
     "data": {
      "text/plain": [
       "2    458\n",
       "4    241\n",
       "Name: Class:, dtype: int64"
      ]
     },
     "execution_count": 110,
     "metadata": {},
     "output_type": "execute_result"
    }
   ],
   "source": [
    "df['Class:'].value_counts()"
   ]
  },
  {
   "cell_type": "code",
   "execution_count": 111,
   "metadata": {},
   "outputs": [],
   "source": [
    "df.replace('?',np.nan,inplace=True)"
   ]
  },
  {
   "cell_type": "code",
   "execution_count": 112,
   "metadata": {},
   "outputs": [],
   "source": [
    "df.dropna(inplace=True)"
   ]
  },
  {
   "cell_type": "code",
   "execution_count": 113,
   "metadata": {},
   "outputs": [],
   "source": [
    "df.drop('Sample code number',axis=1,inplace=True)"
   ]
  },
  {
   "cell_type": "code",
   "execution_count": 114,
   "metadata": {},
   "outputs": [],
   "source": [
    "df['Bare Nuclei']=df['Bare Nuclei'].astype('int64')"
   ]
  },
  {
   "cell_type": "code",
   "execution_count": 115,
   "metadata": {
    "scrolled": true
   },
   "outputs": [
    {
     "name": "stdout",
     "output_type": "stream",
     "text": [
      "<class 'pandas.core.frame.DataFrame'>\n",
      "Int64Index: 683 entries, 0 to 698\n",
      "Data columns (total 10 columns):\n",
      " #   Column                       Non-Null Count  Dtype\n",
      "---  ------                       --------------  -----\n",
      " 0   Clump Thickness              683 non-null    int64\n",
      " 1   Uniformity of Cell Size      683 non-null    int64\n",
      " 2   Uniformity of Cell Shape     683 non-null    int64\n",
      " 3   Marginal Adhesion            683 non-null    int64\n",
      " 4   Single Epithelial Cell Size  683 non-null    int64\n",
      " 5   Bare Nuclei                  683 non-null    int64\n",
      " 6   Bland Chromatin              683 non-null    int64\n",
      " 7   Normal Nucleoli              683 non-null    int64\n",
      " 8   Mitoses                      683 non-null    int64\n",
      " 9   Class:                       683 non-null    int64\n",
      "dtypes: int64(10)\n",
      "memory usage: 58.7 KB\n"
     ]
    }
   ],
   "source": [
    "df.info()"
   ]
  },
  {
   "cell_type": "code",
   "execution_count": 116,
   "metadata": {},
   "outputs": [
    {
     "data": {
      "text/html": [
       "<div>\n",
       "<style scoped>\n",
       "    .dataframe tbody tr th:only-of-type {\n",
       "        vertical-align: middle;\n",
       "    }\n",
       "\n",
       "    .dataframe tbody tr th {\n",
       "        vertical-align: top;\n",
       "    }\n",
       "\n",
       "    .dataframe thead th {\n",
       "        text-align: right;\n",
       "    }\n",
       "</style>\n",
       "<table border=\"1\" class=\"dataframe\">\n",
       "  <thead>\n",
       "    <tr style=\"text-align: right;\">\n",
       "      <th></th>\n",
       "      <th>Clump Thickness</th>\n",
       "      <th>Uniformity of Cell Size</th>\n",
       "      <th>Uniformity of Cell Shape</th>\n",
       "      <th>Marginal Adhesion</th>\n",
       "      <th>Single Epithelial Cell Size</th>\n",
       "      <th>Bare Nuclei</th>\n",
       "      <th>Bland Chromatin</th>\n",
       "      <th>Normal Nucleoli</th>\n",
       "      <th>Mitoses</th>\n",
       "      <th>Class:</th>\n",
       "    </tr>\n",
       "  </thead>\n",
       "  <tbody>\n",
       "    <tr>\n",
       "      <th>count</th>\n",
       "      <td>683.000000</td>\n",
       "      <td>683.000000</td>\n",
       "      <td>683.000000</td>\n",
       "      <td>683.000000</td>\n",
       "      <td>683.000000</td>\n",
       "      <td>683.000000</td>\n",
       "      <td>683.000000</td>\n",
       "      <td>683.000000</td>\n",
       "      <td>683.000000</td>\n",
       "      <td>683.000000</td>\n",
       "    </tr>\n",
       "    <tr>\n",
       "      <th>mean</th>\n",
       "      <td>4.442167</td>\n",
       "      <td>3.150805</td>\n",
       "      <td>3.215227</td>\n",
       "      <td>2.830161</td>\n",
       "      <td>3.234261</td>\n",
       "      <td>3.544656</td>\n",
       "      <td>3.445095</td>\n",
       "      <td>2.869693</td>\n",
       "      <td>1.603221</td>\n",
       "      <td>2.699854</td>\n",
       "    </tr>\n",
       "    <tr>\n",
       "      <th>std</th>\n",
       "      <td>2.820761</td>\n",
       "      <td>3.065145</td>\n",
       "      <td>2.988581</td>\n",
       "      <td>2.864562</td>\n",
       "      <td>2.223085</td>\n",
       "      <td>3.643857</td>\n",
       "      <td>2.449697</td>\n",
       "      <td>3.052666</td>\n",
       "      <td>1.732674</td>\n",
       "      <td>0.954592</td>\n",
       "    </tr>\n",
       "    <tr>\n",
       "      <th>min</th>\n",
       "      <td>1.000000</td>\n",
       "      <td>1.000000</td>\n",
       "      <td>1.000000</td>\n",
       "      <td>1.000000</td>\n",
       "      <td>1.000000</td>\n",
       "      <td>1.000000</td>\n",
       "      <td>1.000000</td>\n",
       "      <td>1.000000</td>\n",
       "      <td>1.000000</td>\n",
       "      <td>2.000000</td>\n",
       "    </tr>\n",
       "    <tr>\n",
       "      <th>25%</th>\n",
       "      <td>2.000000</td>\n",
       "      <td>1.000000</td>\n",
       "      <td>1.000000</td>\n",
       "      <td>1.000000</td>\n",
       "      <td>2.000000</td>\n",
       "      <td>1.000000</td>\n",
       "      <td>2.000000</td>\n",
       "      <td>1.000000</td>\n",
       "      <td>1.000000</td>\n",
       "      <td>2.000000</td>\n",
       "    </tr>\n",
       "    <tr>\n",
       "      <th>50%</th>\n",
       "      <td>4.000000</td>\n",
       "      <td>1.000000</td>\n",
       "      <td>1.000000</td>\n",
       "      <td>1.000000</td>\n",
       "      <td>2.000000</td>\n",
       "      <td>1.000000</td>\n",
       "      <td>3.000000</td>\n",
       "      <td>1.000000</td>\n",
       "      <td>1.000000</td>\n",
       "      <td>2.000000</td>\n",
       "    </tr>\n",
       "    <tr>\n",
       "      <th>75%</th>\n",
       "      <td>6.000000</td>\n",
       "      <td>5.000000</td>\n",
       "      <td>5.000000</td>\n",
       "      <td>4.000000</td>\n",
       "      <td>4.000000</td>\n",
       "      <td>6.000000</td>\n",
       "      <td>5.000000</td>\n",
       "      <td>4.000000</td>\n",
       "      <td>1.000000</td>\n",
       "      <td>4.000000</td>\n",
       "    </tr>\n",
       "    <tr>\n",
       "      <th>max</th>\n",
       "      <td>10.000000</td>\n",
       "      <td>10.000000</td>\n",
       "      <td>10.000000</td>\n",
       "      <td>10.000000</td>\n",
       "      <td>10.000000</td>\n",
       "      <td>10.000000</td>\n",
       "      <td>10.000000</td>\n",
       "      <td>10.000000</td>\n",
       "      <td>10.000000</td>\n",
       "      <td>4.000000</td>\n",
       "    </tr>\n",
       "  </tbody>\n",
       "</table>\n",
       "</div>"
      ],
      "text/plain": [
       "       Clump Thickness  Uniformity of Cell Size  Uniformity of Cell Shape  \\\n",
       "count       683.000000               683.000000                683.000000   \n",
       "mean          4.442167                 3.150805                  3.215227   \n",
       "std           2.820761                 3.065145                  2.988581   \n",
       "min           1.000000                 1.000000                  1.000000   \n",
       "25%           2.000000                 1.000000                  1.000000   \n",
       "50%           4.000000                 1.000000                  1.000000   \n",
       "75%           6.000000                 5.000000                  5.000000   \n",
       "max          10.000000                10.000000                 10.000000   \n",
       "\n",
       "       Marginal Adhesion  Single Epithelial Cell Size  Bare Nuclei  \\\n",
       "count         683.000000                   683.000000   683.000000   \n",
       "mean            2.830161                     3.234261     3.544656   \n",
       "std             2.864562                     2.223085     3.643857   \n",
       "min             1.000000                     1.000000     1.000000   \n",
       "25%             1.000000                     2.000000     1.000000   \n",
       "50%             1.000000                     2.000000     1.000000   \n",
       "75%             4.000000                     4.000000     6.000000   \n",
       "max            10.000000                    10.000000    10.000000   \n",
       "\n",
       "       Bland Chromatin  Normal Nucleoli     Mitoses      Class:  \n",
       "count       683.000000       683.000000  683.000000  683.000000  \n",
       "mean          3.445095         2.869693    1.603221    2.699854  \n",
       "std           2.449697         3.052666    1.732674    0.954592  \n",
       "min           1.000000         1.000000    1.000000    2.000000  \n",
       "25%           2.000000         1.000000    1.000000    2.000000  \n",
       "50%           3.000000         1.000000    1.000000    2.000000  \n",
       "75%           5.000000         4.000000    1.000000    4.000000  \n",
       "max          10.000000        10.000000   10.000000    4.000000  "
      ]
     },
     "execution_count": 116,
     "metadata": {},
     "output_type": "execute_result"
    }
   ],
   "source": [
    "df.describe()"
   ]
  },
  {
   "cell_type": "code",
   "execution_count": 117,
   "metadata": {
    "scrolled": false
   },
   "outputs": [
    {
     "data": {
      "text/plain": [
       "Clump Thickness                0\n",
       "Uniformity of Cell Size        0\n",
       "Uniformity of Cell Shape       0\n",
       "Marginal Adhesion              0\n",
       "Single Epithelial Cell Size    0\n",
       "Bare Nuclei                    0\n",
       "Bland Chromatin                0\n",
       "Normal Nucleoli                0\n",
       "Mitoses                        0\n",
       "Class:                         0\n",
       "dtype: int64"
      ]
     },
     "execution_count": 117,
     "metadata": {},
     "output_type": "execute_result"
    }
   ],
   "source": [
    "df.isnull().sum()"
   ]
  },
  {
   "cell_type": "markdown",
   "metadata": {},
   "source": [
    "# Visualization"
   ]
  },
  {
   "cell_type": "code",
   "execution_count": 178,
   "metadata": {},
   "outputs": [
    {
     "data": {
      "text/html": [
       "<div>\n",
       "<style scoped>\n",
       "    .dataframe tbody tr th:only-of-type {\n",
       "        vertical-align: middle;\n",
       "    }\n",
       "\n",
       "    .dataframe tbody tr th {\n",
       "        vertical-align: top;\n",
       "    }\n",
       "\n",
       "    .dataframe thead th {\n",
       "        text-align: right;\n",
       "    }\n",
       "</style>\n",
       "<table border=\"1\" class=\"dataframe\">\n",
       "  <thead>\n",
       "    <tr style=\"text-align: right;\">\n",
       "      <th></th>\n",
       "      <th>Clump Thickness</th>\n",
       "      <th>Uniformity of Cell Size</th>\n",
       "      <th>Uniformity of Cell Shape</th>\n",
       "      <th>Marginal Adhesion</th>\n",
       "      <th>Single Epithelial Cell Size</th>\n",
       "      <th>Bare Nuclei</th>\n",
       "      <th>Bland Chromatin</th>\n",
       "      <th>Normal Nucleoli</th>\n",
       "      <th>Mitoses</th>\n",
       "      <th>Class:</th>\n",
       "    </tr>\n",
       "  </thead>\n",
       "  <tbody>\n",
       "    <tr>\n",
       "      <th>Clump Thickness</th>\n",
       "      <td>1.000000</td>\n",
       "      <td>0.642481</td>\n",
       "      <td>0.653470</td>\n",
       "      <td>0.487829</td>\n",
       "      <td>0.523596</td>\n",
       "      <td>0.593091</td>\n",
       "      <td>0.553742</td>\n",
       "      <td>0.534066</td>\n",
       "      <td>0.350957</td>\n",
       "      <td>0.714790</td>\n",
       "    </tr>\n",
       "    <tr>\n",
       "      <th>Uniformity of Cell Size</th>\n",
       "      <td>0.642481</td>\n",
       "      <td>1.000000</td>\n",
       "      <td>0.907228</td>\n",
       "      <td>0.706977</td>\n",
       "      <td>0.753544</td>\n",
       "      <td>0.691709</td>\n",
       "      <td>0.755559</td>\n",
       "      <td>0.719346</td>\n",
       "      <td>0.460755</td>\n",
       "      <td>0.820801</td>\n",
       "    </tr>\n",
       "    <tr>\n",
       "      <th>Uniformity of Cell Shape</th>\n",
       "      <td>0.653470</td>\n",
       "      <td>0.907228</td>\n",
       "      <td>1.000000</td>\n",
       "      <td>0.685948</td>\n",
       "      <td>0.722462</td>\n",
       "      <td>0.713878</td>\n",
       "      <td>0.735344</td>\n",
       "      <td>0.717963</td>\n",
       "      <td>0.441258</td>\n",
       "      <td>0.821891</td>\n",
       "    </tr>\n",
       "    <tr>\n",
       "      <th>Marginal Adhesion</th>\n",
       "      <td>0.487829</td>\n",
       "      <td>0.706977</td>\n",
       "      <td>0.685948</td>\n",
       "      <td>1.000000</td>\n",
       "      <td>0.594548</td>\n",
       "      <td>0.670648</td>\n",
       "      <td>0.668567</td>\n",
       "      <td>0.603121</td>\n",
       "      <td>0.418898</td>\n",
       "      <td>0.706294</td>\n",
       "    </tr>\n",
       "    <tr>\n",
       "      <th>Single Epithelial Cell Size</th>\n",
       "      <td>0.523596</td>\n",
       "      <td>0.753544</td>\n",
       "      <td>0.722462</td>\n",
       "      <td>0.594548</td>\n",
       "      <td>1.000000</td>\n",
       "      <td>0.585716</td>\n",
       "      <td>0.618128</td>\n",
       "      <td>0.628926</td>\n",
       "      <td>0.480583</td>\n",
       "      <td>0.690958</td>\n",
       "    </tr>\n",
       "    <tr>\n",
       "      <th>Bare Nuclei</th>\n",
       "      <td>0.593091</td>\n",
       "      <td>0.691709</td>\n",
       "      <td>0.713878</td>\n",
       "      <td>0.670648</td>\n",
       "      <td>0.585716</td>\n",
       "      <td>1.000000</td>\n",
       "      <td>0.680615</td>\n",
       "      <td>0.584280</td>\n",
       "      <td>0.339210</td>\n",
       "      <td>0.822696</td>\n",
       "    </tr>\n",
       "    <tr>\n",
       "      <th>Bland Chromatin</th>\n",
       "      <td>0.553742</td>\n",
       "      <td>0.755559</td>\n",
       "      <td>0.735344</td>\n",
       "      <td>0.668567</td>\n",
       "      <td>0.618128</td>\n",
       "      <td>0.680615</td>\n",
       "      <td>1.000000</td>\n",
       "      <td>0.665602</td>\n",
       "      <td>0.346011</td>\n",
       "      <td>0.758228</td>\n",
       "    </tr>\n",
       "    <tr>\n",
       "      <th>Normal Nucleoli</th>\n",
       "      <td>0.534066</td>\n",
       "      <td>0.719346</td>\n",
       "      <td>0.717963</td>\n",
       "      <td>0.603121</td>\n",
       "      <td>0.628926</td>\n",
       "      <td>0.584280</td>\n",
       "      <td>0.665602</td>\n",
       "      <td>1.000000</td>\n",
       "      <td>0.433757</td>\n",
       "      <td>0.718677</td>\n",
       "    </tr>\n",
       "    <tr>\n",
       "      <th>Mitoses</th>\n",
       "      <td>0.350957</td>\n",
       "      <td>0.460755</td>\n",
       "      <td>0.441258</td>\n",
       "      <td>0.418898</td>\n",
       "      <td>0.480583</td>\n",
       "      <td>0.339210</td>\n",
       "      <td>0.346011</td>\n",
       "      <td>0.433757</td>\n",
       "      <td>1.000000</td>\n",
       "      <td>0.423448</td>\n",
       "    </tr>\n",
       "    <tr>\n",
       "      <th>Class:</th>\n",
       "      <td>0.714790</td>\n",
       "      <td>0.820801</td>\n",
       "      <td>0.821891</td>\n",
       "      <td>0.706294</td>\n",
       "      <td>0.690958</td>\n",
       "      <td>0.822696</td>\n",
       "      <td>0.758228</td>\n",
       "      <td>0.718677</td>\n",
       "      <td>0.423448</td>\n",
       "      <td>1.000000</td>\n",
       "    </tr>\n",
       "  </tbody>\n",
       "</table>\n",
       "</div>"
      ],
      "text/plain": [
       "                             Clump Thickness  Uniformity of Cell Size  \\\n",
       "Clump Thickness                     1.000000                 0.642481   \n",
       "Uniformity of Cell Size             0.642481                 1.000000   \n",
       "Uniformity of Cell Shape            0.653470                 0.907228   \n",
       "Marginal Adhesion                   0.487829                 0.706977   \n",
       "Single Epithelial Cell Size         0.523596                 0.753544   \n",
       "Bare Nuclei                         0.593091                 0.691709   \n",
       "Bland Chromatin                     0.553742                 0.755559   \n",
       "Normal Nucleoli                     0.534066                 0.719346   \n",
       "Mitoses                             0.350957                 0.460755   \n",
       "Class:                              0.714790                 0.820801   \n",
       "\n",
       "                             Uniformity of Cell Shape  Marginal Adhesion  \\\n",
       "Clump Thickness                              0.653470           0.487829   \n",
       "Uniformity of Cell Size                      0.907228           0.706977   \n",
       "Uniformity of Cell Shape                     1.000000           0.685948   \n",
       "Marginal Adhesion                            0.685948           1.000000   \n",
       "Single Epithelial Cell Size                  0.722462           0.594548   \n",
       "Bare Nuclei                                  0.713878           0.670648   \n",
       "Bland Chromatin                              0.735344           0.668567   \n",
       "Normal Nucleoli                              0.717963           0.603121   \n",
       "Mitoses                                      0.441258           0.418898   \n",
       "Class:                                       0.821891           0.706294   \n",
       "\n",
       "                             Single Epithelial Cell Size  Bare Nuclei  \\\n",
       "Clump Thickness                                 0.523596     0.593091   \n",
       "Uniformity of Cell Size                         0.753544     0.691709   \n",
       "Uniformity of Cell Shape                        0.722462     0.713878   \n",
       "Marginal Adhesion                               0.594548     0.670648   \n",
       "Single Epithelial Cell Size                     1.000000     0.585716   \n",
       "Bare Nuclei                                     0.585716     1.000000   \n",
       "Bland Chromatin                                 0.618128     0.680615   \n",
       "Normal Nucleoli                                 0.628926     0.584280   \n",
       "Mitoses                                         0.480583     0.339210   \n",
       "Class:                                          0.690958     0.822696   \n",
       "\n",
       "                             Bland Chromatin  Normal Nucleoli   Mitoses  \\\n",
       "Clump Thickness                     0.553742         0.534066  0.350957   \n",
       "Uniformity of Cell Size             0.755559         0.719346  0.460755   \n",
       "Uniformity of Cell Shape            0.735344         0.717963  0.441258   \n",
       "Marginal Adhesion                   0.668567         0.603121  0.418898   \n",
       "Single Epithelial Cell Size         0.618128         0.628926  0.480583   \n",
       "Bare Nuclei                         0.680615         0.584280  0.339210   \n",
       "Bland Chromatin                     1.000000         0.665602  0.346011   \n",
       "Normal Nucleoli                     0.665602         1.000000  0.433757   \n",
       "Mitoses                             0.346011         0.433757  1.000000   \n",
       "Class:                              0.758228         0.718677  0.423448   \n",
       "\n",
       "                               Class:  \n",
       "Clump Thickness              0.714790  \n",
       "Uniformity of Cell Size      0.820801  \n",
       "Uniformity of Cell Shape     0.821891  \n",
       "Marginal Adhesion            0.706294  \n",
       "Single Epithelial Cell Size  0.690958  \n",
       "Bare Nuclei                  0.822696  \n",
       "Bland Chromatin              0.758228  \n",
       "Normal Nucleoli              0.718677  \n",
       "Mitoses                      0.423448  \n",
       "Class:                       1.000000  "
      ]
     },
     "execution_count": 178,
     "metadata": {},
     "output_type": "execute_result"
    }
   ],
   "source": [
    "cormat=df.corr()\n",
    "cormat"
   ]
  },
  {
   "cell_type": "code",
   "execution_count": 184,
   "metadata": {},
   "outputs": [
    {
     "name": "stderr",
     "output_type": "stream",
     "text": [
      "C:\\Users\\ghild\\anaconda3\\lib\\site-packages\\seaborn\\distributions.py:369: UserWarning: Default bandwidth for data is 0; skipping density estimation.\n",
      "  warnings.warn(msg, UserWarning)\n"
     ]
    },
    {
     "data": {
      "image/png": "[encoded data removed]",
      "text/plain": [
       "<Figure size 1296x432 with 10 Axes>"
      ]
     },
     "metadata": {
      "needs_background": "light"
     },
     "output_type": "display_data"
    }
   ],
   "source": [
    "fig,ax=plt.subplots(2,5,figsize=(18,6))\n",
    "index=0\n",
    "for i in range(2):\n",
    "    for j in range(5):\n",
    "        sns.distplot(df[df.columns[index]],ax=ax[i][j])\n",
    "        index=index+1"
   ]
  },
  {
   "cell_type": "markdown",
   "metadata": {},
   "source": [
    "# Splitting data into training and testing"
   ]
  },
  {
   "cell_type": "code",
   "execution_count": 118,
   "metadata": {},
   "outputs": [],
   "source": [
    "x=df.drop('Class:',axis=1)\n",
    "y=df['Class:']"
   ]
  },
  {
   "cell_type": "code",
   "execution_count": 119,
   "metadata": {},
   "outputs": [],
   "source": [
    "x_train,x_test,y_train,y_test=train_test_split(x,y,test_size=0.2,random_state=25)"
   ]
  },
  {
   "cell_type": "markdown",
   "metadata": {},
   "source": [
    "# Scaling data"
   ]
  },
  {
   "cell_type": "code",
   "execution_count": 120,
   "metadata": {},
   "outputs": [],
   "source": [
    "sc=StandardScaler().fit(x_train)\n",
    "x_train=sc.transform(x_train)\n",
    "x_test=sc.transform(x_test)"
   ]
  },
  {
   "cell_type": "markdown",
   "metadata": {},
   "source": [
    "# Building model"
   ]
  },
  {
   "cell_type": "code",
   "execution_count": 129,
   "metadata": {},
   "outputs": [],
   "source": [
    "mdl=RandomForestClassifier()\n",
    "mdl.fit(x_train,y_train)\n",
    "pred=mdl.predict(x_test)"
   ]
  },
  {
   "cell_type": "code",
   "execution_count": 131,
   "metadata": {
    "scrolled": true
   },
   "outputs": [
    {
     "data": {
      "text/plain": [
       "0.9708029197080292"
      ]
     },
     "execution_count": 131,
     "metadata": {},
     "output_type": "execute_result"
    }
   ],
   "source": [
    "accuracy=accuracy_score(y_test,pred)\n",
    "accuracy"
   ]
  },
  {
   "cell_type": "code",
   "execution_count": 132,
   "metadata": {},
   "outputs": [
    {
     "name": "stdout",
     "output_type": "stream",
     "text": [
      "              precision    recall  f1-score   support\n",
      "\n",
      "           2       1.00      0.96      0.98        96\n",
      "           4       0.91      1.00      0.95        41\n",
      "\n",
      "    accuracy                           0.97       137\n",
      "   macro avg       0.96      0.98      0.97       137\n",
      "weighted avg       0.97      0.97      0.97       137\n",
      "\n"
     ]
    }
   ],
   "source": [
    "clas=classification_report(y_test,pred)\n",
    "print(clas)"
   ]
  },
  {
   "cell_type": "code",
   "execution_count": 133,
   "metadata": {
    "scrolled": true
   },
   "outputs": [
    {
     "data": {
      "text/plain": [
       "array([[92,  4],\n",
       "       [ 0, 41]], dtype=int64)"
      ]
     },
     "execution_count": 133,
     "metadata": {},
     "output_type": "execute_result"
    }
   ],
   "source": [
    "con=confusion_matrix(y_test,pred)\n",
    "con"
   ]
  },
  {
   "cell_type": "markdown",
   "metadata": {},
   "source": [
    "# XGBClassifier"
   ]
  },
  {
   "cell_type": "code",
   "execution_count": 19,
   "metadata": {},
   "outputs": [],
   "source": [
    "from xgboost import XGBClassifier"
   ]
  },
  {
   "cell_type": "code",
   "execution_count": 20,
   "metadata": {
    "scrolled": true
   },
   "outputs": [
    {
     "name": "stdout",
     "output_type": "stream",
     "text": [
      "              precision    recall  f1-score   support\n",
      "\n",
      "           2       0.98      0.96      0.97        96\n",
      "           4       0.91      0.95      0.93        41\n",
      "\n",
      "    accuracy                           0.96       137\n",
      "   macro avg       0.94      0.95      0.95       137\n",
      "weighted avg       0.96      0.96      0.96       137\n",
      "\n",
      "0.9562043795620438\n",
      "[[92  4]\n",
      " [ 2 39]]\n"
     ]
    }
   ],
   "source": [
    "clf=XGBClassifier()\n",
    "clf.fit(x_train,y_train)\n",
    "predi=clf.predict(x_test)\n",
    "clas=classification_report(y_test,predi)\n",
    "print(clas)\n",
    "accuracy=accuracy_score(y_test,predi)\n",
    "print(accuracy)\n",
    "con=confusion_matrix(y_test,predi)\n",
    "print(con)"
   ]
  },
  {
   "cell_type": "markdown",
   "metadata": {},
   "source": [
    "# Training model "
   ]
  },
  {
   "cell_type": "code",
   "execution_count": 21,
   "metadata": {},
   "outputs": [],
   "source": [
    "acc=[]\n",
    "feature=[]\n",
    "est=[]\n",
    "def model(classifier,df2):\n",
    "    x=df2.drop('Class:',axis=1)\n",
    "    y=df2['Class:']\n",
    "    \n",
    "    x_train,x_test,y_train,y_test=train_test_split(x,y,test_size=0.2,random_state=np.random.randint(1,100,1)[0])\n",
    "    \n",
    "    sc=StandardScaler().fit(x_train)\n",
    "    x_train=sc.transform(x_train)\n",
    "    x_test=sc.transform(x_test)\n",
    "    \n",
    "    \n",
    "    \n",
    "    clf=classifier()\n",
    "    clf.fit(x_train,y_train)\n",
    "    pred=clf.predict(x_test)\n",
    "    \n",
    "    a=classifier\n",
    "    est.append(a)\n",
    "    accu=accuracy_score(y_test,pred)\n",
    "    clas=classification_report(y_test,pred)\n",
    "    con=confusion_matrix(y_test,pred)\n",
    "    \n",
    "    acc.append(accuracy_score(y_test,pred))\n",
    "    feature.append(len(x.columns))\n",
    "    \n",
    "    print('No of features:',len(x.columns))\n",
    "    print('accuracy', accu)\n",
    "    print('classification_report:',clas)\n",
    "    print('confusion_matrix:',con)\n",
    "    \n",
    "    df3=pd.DataFrame(data=[est,feature,acc],index=['classifier','features','acc'])\n",
    "    \n",
    "    return df3\n",
    "        \n",
    "    \n",
    "    \n",
    "   "
   ]
  },
  {
   "cell_type": "code",
   "execution_count": 22,
   "metadata": {},
   "outputs": [
    {
     "name": "stdout",
     "output_type": "stream",
     "text": [
      "No of features: 9\n",
      "accuracy 0.9635036496350365\n",
      "classification_report:               precision    recall  f1-score   support\n",
      "\n",
      "           2       1.00      0.94      0.97        89\n",
      "           4       0.91      1.00      0.95        48\n",
      "\n",
      "    accuracy                           0.96       137\n",
      "   macro avg       0.95      0.97      0.96       137\n",
      "weighted avg       0.97      0.96      0.96       137\n",
      "\n",
      "confusion_matrix: [[84  5]\n",
      " [ 0 48]]\n",
      "No of features: 9\n",
      "accuracy 0.9562043795620438\n",
      "classification_report:               precision    recall  f1-score   support\n",
      "\n",
      "           2       0.96      0.98      0.97        93\n",
      "           4       0.95      0.91      0.93        44\n",
      "\n",
      "    accuracy                           0.96       137\n",
      "   macro avg       0.96      0.94      0.95       137\n",
      "weighted avg       0.96      0.96      0.96       137\n",
      "\n",
      "confusion_matrix: [[91  2]\n",
      " [ 4 40]]\n",
      "No of features: 9\n",
      "accuracy 0.9635036496350365\n",
      "classification_report:               precision    recall  f1-score   support\n",
      "\n",
      "           2       0.99      0.96      0.97        89\n",
      "           4       0.92      0.98      0.95        48\n",
      "\n",
      "    accuracy                           0.96       137\n",
      "   macro avg       0.95      0.97      0.96       137\n",
      "weighted avg       0.96      0.96      0.96       137\n",
      "\n",
      "confusion_matrix: [[85  4]\n",
      " [ 1 47]]\n",
      "No of features: 9\n",
      "accuracy 0.9854014598540146\n",
      "classification_report:               precision    recall  f1-score   support\n",
      "\n",
      "           2       0.99      0.99      0.99        83\n",
      "           4       0.98      0.98      0.98        54\n",
      "\n",
      "    accuracy                           0.99       137\n",
      "   macro avg       0.98      0.98      0.98       137\n",
      "weighted avg       0.99      0.99      0.99       137\n",
      "\n",
      "confusion_matrix: [[82  1]\n",
      " [ 1 53]]\n",
      "No of features: 9\n",
      "accuracy 0.9708029197080292\n",
      "classification_report:               precision    recall  f1-score   support\n",
      "\n",
      "           2       0.99      0.96      0.97        77\n",
      "           4       0.95      0.98      0.97        60\n",
      "\n",
      "    accuracy                           0.97       137\n",
      "   macro avg       0.97      0.97      0.97       137\n",
      "weighted avg       0.97      0.97      0.97       137\n",
      "\n",
      "confusion_matrix: [[74  3]\n",
      " [ 1 59]]\n"
     ]
    },
    {
     "data": {
      "text/html": [
       "<div>\n",
       "<style scoped>\n",
       "    .dataframe tbody tr th:only-of-type {\n",
       "        vertical-align: middle;\n",
       "    }\n",
       "\n",
       "    .dataframe tbody tr th {\n",
       "        vertical-align: top;\n",
       "    }\n",
       "\n",
       "    .dataframe thead th {\n",
       "        text-align: right;\n",
       "    }\n",
       "</style>\n",
       "<table border=\"1\" class=\"dataframe\">\n",
       "  <thead>\n",
       "    <tr style=\"text-align: right;\">\n",
       "      <th></th>\n",
       "      <th>classifier</th>\n",
       "      <th>features</th>\n",
       "      <th>acc</th>\n",
       "    </tr>\n",
       "  </thead>\n",
       "  <tbody>\n",
       "    <tr>\n",
       "      <th>0</th>\n",
       "      <td>&lt;class 'sklearn.linear_model._logistic.Logisti...</td>\n",
       "      <td>9</td>\n",
       "      <td>0.963504</td>\n",
       "    </tr>\n",
       "    <tr>\n",
       "      <th>1</th>\n",
       "      <td>&lt;class 'sklearn.tree._classes.DecisionTreeClas...</td>\n",
       "      <td>9</td>\n",
       "      <td>0.956204</td>\n",
       "    </tr>\n",
       "    <tr>\n",
       "      <th>2</th>\n",
       "      <td>&lt;class 'sklearn.svm._classes.SVC'&gt;</td>\n",
       "      <td>9</td>\n",
       "      <td>0.963504</td>\n",
       "    </tr>\n",
       "    <tr>\n",
       "      <th>3</th>\n",
       "      <td>&lt;class 'sklearn.neighbors._classification.KNei...</td>\n",
       "      <td>9</td>\n",
       "      <td>0.985401</td>\n",
       "    </tr>\n",
       "    <tr>\n",
       "      <th>4</th>\n",
       "      <td>&lt;class 'sklearn.ensemble._forest.RandomForestC...</td>\n",
       "      <td>9</td>\n",
       "      <td>0.970803</td>\n",
       "    </tr>\n",
       "  </tbody>\n",
       "</table>\n",
       "</div>"
      ],
      "text/plain": [
       "                                          classifier features       acc\n",
       "0  <class 'sklearn.linear_model._logistic.Logisti...        9  0.963504\n",
       "1  <class 'sklearn.tree._classes.DecisionTreeClas...        9  0.956204\n",
       "2                 <class 'sklearn.svm._classes.SVC'>        9  0.963504\n",
       "3  <class 'sklearn.neighbors._classification.KNei...        9  0.985401\n",
       "4  <class 'sklearn.ensemble._forest.RandomForestC...        9  0.970803"
      ]
     },
     "execution_count": 22,
     "metadata": {},
     "output_type": "execute_result"
    }
   ],
   "source": [
    "model(LogisticRegression,df)\n",
    "model(DecisionTreeClassifier,df)\n",
    "model(SVC,df)\n",
    "model(KNeighborsClassifier,df)\n",
    "model(RandomForestClassifier,df).T"
   ]
  },
  {
   "cell_type": "markdown",
   "metadata": {},
   "source": [
    "# Feature selection using corr and then building linear model"
   ]
  },
  {
   "cell_type": "code",
   "execution_count": 25,
   "metadata": {},
   "outputs": [],
   "source": [
    "cormat=df.corr()"
   ]
  },
  {
   "cell_type": "code",
   "execution_count": 26,
   "metadata": {},
   "outputs": [],
   "source": [
    "r2=[]\n",
    "mse=[]\n",
    "mae=[]\n",
    "features=[]\n",
    "name=[]\n",
    "\n",
    "\n",
    "\n",
    "def model(data,threshold):\n",
    "    feat=[]\n",
    "    values=[]\n",
    "    for i,index in enumerate(data.index):\n",
    "        if abs(data[index])>threshold:\n",
    "            feat.append(index)\n",
    "            values.append(data[index])\n",
    "    df1=pd.DataFrame(data=values,index=feat,columns=['corr values'])\n",
    "    df2=df[df1.index.values]\n",
    "    \n",
    "    \n",
    "    \n",
    "    x=df2.drop('Class:',axis=1)\n",
    "    y=df2['Class:']\n",
    "    \n",
    "    x_train,x_test,y_train,y_test=train_test_split(x,y,test_size=0.2,random_state=np.random.randint(1,100,1)[0])\n",
    "    \n",
    "    sc=StandardScaler().fit(x_train)\n",
    "    x_train=sc.transform(x_train)\n",
    "    x_test=sc.transform(x_test)\n",
    "    \n",
    "    feature=x.shape[1]\n",
    "    \n",
    "    lm=LinearRegression()\n",
    "    lm.fit(x_train,y_train)\n",
    "    pred=lm.predict(x_test)\n",
    "    \n",
    "    \n",
    "    \n",
    "    r2.append(r2_score(y_test,pred))\n",
    "    mse.append(mean_squared_error(y_test,pred))\n",
    "    mae.append(mean_absolute_error(y_test,pred))\n",
    "    features.append(feature)\n",
    "    name.append(x.columns)\n",
    "    \n",
    "    \n",
    "    df3=pd.DataFrame(data=[name,features,r2,mae,mse],index=['name','features','r2','mae','mse'])\n",
    "    \n",
    "    return df3\n",
    "    \n",
    "    \n",
    "    \n",
    "    "
   ]
  },
  {
   "cell_type": "code",
   "execution_count": 28,
   "metadata": {},
   "outputs": [
    {
     "data": {
      "text/html": [
       "<div>\n",
       "<style scoped>\n",
       "    .dataframe tbody tr th:only-of-type {\n",
       "        vertical-align: middle;\n",
       "    }\n",
       "\n",
       "    .dataframe tbody tr th {\n",
       "        vertical-align: top;\n",
       "    }\n",
       "\n",
       "    .dataframe thead th {\n",
       "        text-align: right;\n",
       "    }\n",
       "</style>\n",
       "<table border=\"1\" class=\"dataframe\">\n",
       "  <thead>\n",
       "    <tr style=\"text-align: right;\">\n",
       "      <th></th>\n",
       "      <th>name</th>\n",
       "      <th>features</th>\n",
       "      <th>r2</th>\n",
       "      <th>mae</th>\n",
       "      <th>mse</th>\n",
       "    </tr>\n",
       "  </thead>\n",
       "  <tbody>\n",
       "    <tr>\n",
       "      <th>0</th>\n",
       "      <td>Index(['Uniformity of Cell Size', 'Uniformity ...</td>\n",
       "      <td>3</td>\n",
       "      <td>0.690723</td>\n",
       "      <td>0.324534</td>\n",
       "      <td>0.30056</td>\n",
       "    </tr>\n",
       "    <tr>\n",
       "      <th>1</th>\n",
       "      <td>Index(['Uniformity of Cell Size', 'Uniformity ...</td>\n",
       "      <td>4</td>\n",
       "      <td>0.75376</td>\n",
       "      <td>0.289264</td>\n",
       "      <td>0.217259</td>\n",
       "    </tr>\n",
       "    <tr>\n",
       "      <th>2</th>\n",
       "      <td>Index(['Clump Thickness', 'Uniformity of Cell ...</td>\n",
       "      <td>7</td>\n",
       "      <td>0.825289</td>\n",
       "      <td>0.264491</td>\n",
       "      <td>0.159063</td>\n",
       "    </tr>\n",
       "    <tr>\n",
       "      <th>3</th>\n",
       "      <td>Index(['Clump Thickness', 'Uniformity of Cell ...</td>\n",
       "      <td>8</td>\n",
       "      <td>0.83674</td>\n",
       "      <td>0.250699</td>\n",
       "      <td>0.154901</td>\n",
       "    </tr>\n",
       "    <tr>\n",
       "      <th>4</th>\n",
       "      <td>Index(['Clump Thickness', 'Uniformity of Cell ...</td>\n",
       "      <td>8</td>\n",
       "      <td>0.825046</td>\n",
       "      <td>0.244671</td>\n",
       "      <td>0.162193</td>\n",
       "    </tr>\n",
       "    <tr>\n",
       "      <th>5</th>\n",
       "      <td>Index(['Clump Thickness', 'Uniformity of Cell ...</td>\n",
       "      <td>8</td>\n",
       "      <td>0.871705</td>\n",
       "      <td>0.23493</td>\n",
       "      <td>0.114454</td>\n",
       "    </tr>\n",
       "    <tr>\n",
       "      <th>6</th>\n",
       "      <td>Index(['Clump Thickness', 'Uniformity of Cell ...</td>\n",
       "      <td>8</td>\n",
       "      <td>0.840854</td>\n",
       "      <td>0.255454</td>\n",
       "      <td>0.148759</td>\n",
       "    </tr>\n",
       "    <tr>\n",
       "      <th>7</th>\n",
       "      <td>Index(['Clump Thickness', 'Uniformity of Cell ...</td>\n",
       "      <td>8</td>\n",
       "      <td>0.831829</td>\n",
       "      <td>0.255108</td>\n",
       "      <td>0.15956</td>\n",
       "    </tr>\n",
       "    <tr>\n",
       "      <th>8</th>\n",
       "      <td>Index(['Clump Thickness', 'Uniformity of Cell ...</td>\n",
       "      <td>9</td>\n",
       "      <td>0.866742</td>\n",
       "      <td>0.232022</td>\n",
       "      <td>0.128082</td>\n",
       "    </tr>\n",
       "    <tr>\n",
       "      <th>9</th>\n",
       "      <td>Index(['Clump Thickness', 'Uniformity of Cell ...</td>\n",
       "      <td>9</td>\n",
       "      <td>0.817535</td>\n",
       "      <td>0.281284</td>\n",
       "      <td>0.170556</td>\n",
       "    </tr>\n",
       "  </tbody>\n",
       "</table>\n",
       "</div>"
      ],
      "text/plain": [
       "                                                name features        r2  \\\n",
       "0  Index(['Uniformity of Cell Size', 'Uniformity ...        3  0.690723   \n",
       "1  Index(['Uniformity of Cell Size', 'Uniformity ...        4   0.75376   \n",
       "2  Index(['Clump Thickness', 'Uniformity of Cell ...        7  0.825289   \n",
       "3  Index(['Clump Thickness', 'Uniformity of Cell ...        8   0.83674   \n",
       "4  Index(['Clump Thickness', 'Uniformity of Cell ...        8  0.825046   \n",
       "5  Index(['Clump Thickness', 'Uniformity of Cell ...        8  0.871705   \n",
       "6  Index(['Clump Thickness', 'Uniformity of Cell ...        8  0.840854   \n",
       "7  Index(['Clump Thickness', 'Uniformity of Cell ...        8  0.831829   \n",
       "8  Index(['Clump Thickness', 'Uniformity of Cell ...        9  0.866742   \n",
       "9  Index(['Clump Thickness', 'Uniformity of Cell ...        9  0.817535   \n",
       "\n",
       "        mae       mse  \n",
       "0  0.324534   0.30056  \n",
       "1  0.289264  0.217259  \n",
       "2  0.264491  0.159063  \n",
       "3  0.250699  0.154901  \n",
       "4  0.244671  0.162193  \n",
       "5   0.23493  0.114454  \n",
       "6  0.255454  0.148759  \n",
       "7  0.255108   0.15956  \n",
       "8  0.232022  0.128082  \n",
       "9  0.281284  0.170556  "
      ]
     },
     "execution_count": 28,
     "metadata": {},
     "output_type": "execute_result"
    }
   ],
   "source": [
    "model(cormat['Class:'],0.55).T\n",
    "model(cormat['Class:'],0.50).T\n",
    "model(cormat['Class:'],0.45).T\n",
    "model(cormat['Class:'],0.40).T\n",
    "model(cormat['Class:'],0.35).T"
   ]
  },
  {
   "cell_type": "markdown",
   "metadata": {},
   "source": [
    "# Selecting features using Lasso regulization tech. and then building model"
   ]
  },
  {
   "cell_type": "code",
   "execution_count": 71,
   "metadata": {},
   "outputs": [],
   "source": [
    "sel=SelectFromModel(LogisticRegression(penalty='l1',C=0.1,solver='liblinear')).fit(x_train,y_train)"
   ]
  },
  {
   "cell_type": "code",
   "execution_count": 72,
   "metadata": {
    "scrolled": true
   },
   "outputs": [
    {
     "data": {
      "text/plain": [
       "array([ True,  True,  True,  True, False,  True, False,  True, False])"
      ]
     },
     "execution_count": 72,
     "metadata": {},
     "output_type": "execute_result"
    }
   ],
   "source": [
    "sel.get_support()"
   ]
  },
  {
   "cell_type": "code",
   "execution_count": 73,
   "metadata": {},
   "outputs": [],
   "source": [
    "x_train10=sel.transform(x_train)\n",
    "x_test10=sel.transform(x_test)"
   ]
  },
  {
   "cell_type": "code",
   "execution_count": 74,
   "metadata": {},
   "outputs": [],
   "source": [
    "sc=StandardScaler().fit(x_train10)\n",
    "x_train10=sc.transform(x_train10)\n",
    "x_test10=sc.transform(x_test10)"
   ]
  },
  {
   "cell_type": "code",
   "execution_count": 75,
   "metadata": {},
   "outputs": [
    {
     "data": {
      "text/plain": [
       "(546, 6)"
      ]
     },
     "execution_count": 75,
     "metadata": {},
     "output_type": "execute_result"
    }
   ],
   "source": [
    "x_train10.shape"
   ]
  },
  {
   "cell_type": "code",
   "execution_count": 76,
   "metadata": {},
   "outputs": [],
   "source": [
    "def Las(x_train,x_test,y_train,y_test):\n",
    "    clf=LogisticRegression ()\n",
    "    clf.fit(x_train,y_train)\n",
    "    pred=clf.predict(x_test)\n",
    "    accu=accuracy_score(y_test,pred)\n",
    "    clas=classification_report(y_test,pred)\n",
    "    con=confusion_matrix(y_test,pred)\n",
    "   \n",
    "    print('accuracy', accu)\n",
    "    print('classification_report:',clas)\n",
    "    print('confusion_matrix:',con)"
   ]
  },
  {
   "cell_type": "code",
   "execution_count": 77,
   "metadata": {
    "scrolled": false
   },
   "outputs": [
    {
     "name": "stdout",
     "output_type": "stream",
     "text": [
      "accuracy 0.9635036496350365\n",
      "classification_report:               precision    recall  f1-score   support\n",
      "\n",
      "           2       0.98      0.97      0.97        96\n",
      "           4       0.93      0.95      0.94        41\n",
      "\n",
      "    accuracy                           0.96       137\n",
      "   macro avg       0.95      0.96      0.96       137\n",
      "weighted avg       0.96      0.96      0.96       137\n",
      "\n",
      "confusion_matrix: [[93  3]\n",
      " [ 2 39]]\n"
     ]
    }
   ],
   "source": [
    "Las(x_train10,x_test10,y_train,y_test)"
   ]
  },
  {
   "cell_type": "markdown",
   "metadata": {},
   "source": [
    "# KNN"
   ]
  },
  {
   "cell_type": "code",
   "execution_count": 156,
   "metadata": {},
   "outputs": [],
   "source": [
    "neigh=list(range(1,30,1))\n",
    "scores=[]\n",
    "for k in neigh:\n",
    "    knn=KNeighborsClassifier(n_neighbors=k)\n",
    "    sel=cross_val_score(knn,x_train,y_train,scoring='accuracy',cv=10)\n",
    "    scores.append(sel.mean())"
   ]
  },
  {
   "cell_type": "code",
   "execution_count": 158,
   "metadata": {},
   "outputs": [],
   "source": [
    "mse=[1- x for x in scores]"
   ]
  },
  {
   "cell_type": "code",
   "execution_count": 161,
   "metadata": {},
   "outputs": [
    {
     "data": {
      "text/plain": [
       "8     0.025657\n",
       "10    0.027475\n",
       "9     0.027475\n",
       "14    0.027508\n",
       "20    0.027508\n",
       "16    0.027508\n",
       "15    0.027508\n",
       "12    0.027508\n",
       "7     0.029293\n",
       "13    0.029327\n",
       "18    0.029360\n",
       "17    0.029360\n",
       "6     0.031145\n",
       "5     0.031145\n",
       "4     0.031145\n",
       "11    0.031145\n",
       "22    0.031212\n",
       "19    0.031212\n",
       "24    0.033064\n",
       "23    0.033064\n",
       "3     0.034781\n",
       "21    0.034882\n",
       "2     0.038485\n",
       "25    0.038519\n",
       "26    0.038519\n",
       "28    0.038519\n",
       "27    0.038519\n",
       "0     0.049461\n",
       "1     0.056801\n",
       "dtype: float64"
      ]
     },
     "execution_count": 161,
     "metadata": {},
     "output_type": "execute_result"
    }
   ],
   "source": [
    "mse=np.array(mse)\n",
    "mse=pd.Series(mse).sort_values()\n",
    "mse"
   ]
  },
  {
   "cell_type": "code",
   "execution_count": 154,
   "metadata": {},
   "outputs": [
    {
     "data": {
      "text/plain": [
       "8"
      ]
     },
     "execution_count": 154,
     "metadata": {},
     "output_type": "execute_result"
    }
   ],
   "source": [
    "mse.idxmin()"
   ]
  },
  {
   "cell_type": "code",
   "execution_count": 139,
   "metadata": {},
   "outputs": [
    {
     "data": {
      "text/plain": [
       "[<matplotlib.lines.Line2D at 0x2b37c12fb80>]"
      ]
     },
     "execution_count": 139,
     "metadata": {},
     "output_type": "execute_result"
    },
    {
     "data": {
      "image/png": "[encoded data removed]",
      "text/plain": [
       "<Figure size 432x288 with 1 Axes>"
      ]
     },
     "metadata": {
      "needs_background": "light"
     },
     "output_type": "display_data"
    }
   ],
   "source": [
    "plt.plot(neigh,mse)"
   ]
  },
  {
   "cell_type": "code",
   "execution_count": 173,
   "metadata": {},
   "outputs": [],
   "source": [
    "mdl=KNeighborsClassifier(n_neighbors=8)\n",
    "mdl.fit(x_train,y_train)\n",
    "pred=mdl.predict(x_test)"
   ]
  },
  {
   "cell_type": "code",
   "execution_count": 174,
   "metadata": {
    "scrolled": true
   },
   "outputs": [
    {
     "data": {
      "text/plain": [
       "0.9708029197080292"
      ]
     },
     "execution_count": 174,
     "metadata": {},
     "output_type": "execute_result"
    }
   ],
   "source": [
    "accuracy=accuracy_score(y_test,pred)\n",
    "accuracy"
   ]
  },
  {
   "cell_type": "code",
   "execution_count": 164,
   "metadata": {},
   "outputs": [
    {
     "name": "stdout",
     "output_type": "stream",
     "text": [
      "              precision    recall  f1-score   support\n",
      "\n",
      "           2       0.99      0.97      0.98        96\n",
      "           4       0.93      0.98      0.95        41\n",
      "\n",
      "    accuracy                           0.97       137\n",
      "   macro avg       0.96      0.97      0.97       137\n",
      "weighted avg       0.97      0.97      0.97       137\n",
      "\n"
     ]
    }
   ],
   "source": [
    "clas=classification_report(y_test,pred)\n",
    "print(clas)"
   ]
  },
  {
   "cell_type": "code",
   "execution_count": null,
   "metadata": {},
   "outputs": [],
   "source": []
  }
 ],
 "metadata": {
  "kernelspec": {
   "display_name": "Python 3",
   "language": "python",
   "name": "python3"
  },
  "language_info": {
   "codemirror_mode": {
    "name": "ipython",
    "version": 3
   },
   "file_extension": ".py",
   "mimetype": "text/x-python",
   "name": "python",
   "nbconvert_exporter": "python",
   "pygments_lexer": "ipython3",
   "version": "3.8.3"
  }
 },
 "nbformat": 4,
 "nbformat_minor": 4
}
